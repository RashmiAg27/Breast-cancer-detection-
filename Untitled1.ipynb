{
  "cells": [
    {
      "cell_type": "markdown",
      "metadata": {
        "id": "view-in-github",
        "colab_type": "text"
      },
      "source": [
        "<a href=\"https://colab.research.google.com/github/RashmiAg27/Breast-cancer-detection-/blob/main/Untitled1.ipynb\" target=\"_parent\"><img src=\"https://colab.research.google.com/assets/colab-badge.svg\" alt=\"Open In Colab\"/></a>"
      ]
    },
    {
      "cell_type": "markdown",
      "metadata": {
        "id": "hbVPa-y2kgdX"
      },
      "source": [
        "# MRI DATASET MODEL 1"
      ]
    },
    {
      "cell_type": "code",
      "execution_count": null,
      "metadata": {
        "id": "pRZCYHe8k7SA"
      },
      "outputs": [],
      "source": [
        "pip install kaggle"
      ]
    },
    {
      "cell_type": "code",
      "execution_count": null,
      "metadata": {
        "id": "nE7U1JETnT20"
      },
      "outputs": [],
      "source": [
        "!mkdir -p ~/.kaggle\n",
        "!cp kaggle.json ~/.kaggle/"
      ]
    },
    {
      "cell_type": "markdown",
      "metadata": {
        "id": "1P17AXp_sndJ"
      },
      "source": []
    },
    {
      "cell_type": "code",
      "execution_count": null,
      "metadata": {
        "id": "5CC9OKEkt7-c"
      },
      "outputs": [],
      "source": [
        "!kaggle datasets download -d uzairkhan45/breast-cancer-patients-mris --force"
      ]
    },
    {
      "cell_type": "code",
      "execution_count": null,
      "metadata": {
        "id": "8jxCDO5RuQ1f"
      },
      "outputs": [],
      "source": [
        "import zipfile\n",
        "zip_ref = zipfile.ZipFile('/content/breast-cancer-patients-mris.zip', 'r')\n",
        "zip_ref.extractall('/content')\n",
        "zip_ref.close()"
      ]
    },
    {
      "cell_type": "markdown",
      "metadata": {
        "id": "5uVuK4m-wJdV"
      },
      "source": []
    },
    {
      "cell_type": "markdown",
      "metadata": {
        "id": "pcwFlA3cvRfB"
      },
      "source": []
    },
    {
      "cell_type": "code",
      "execution_count": null,
      "metadata": {
        "id": "6j46gvTGx57C"
      },
      "outputs": [],
      "source": []
    },
    {
      "cell_type": "code",
      "execution_count": null,
      "metadata": {
        "id": "EFop5YflyZWY"
      },
      "outputs": [],
      "source": [
        "import time\n",
        "from sklearn.svm import SVC\n",
        "import os\n",
        "import cv2\n",
        "import numpy as np\n",
        "import matplotlib.pyplot as plt"
      ]
    },
    {
      "cell_type": "code",
      "execution_count": null,
      "metadata": {
        "id": "PKuN53H8e2yl"
      },
      "outputs": [],
      "source": [
        "from sklearn.metrics import confusion_matrix, accuracy_score, precision_score, recall_score, f1_score,ConfusionMatrixDisplay\n",
        "from sklearn.model_selection import train_test_split\n",
        "from skimage.transform import resize"
      ]
    },
    {
      "cell_type": "code",
      "execution_count": null,
      "metadata": {
        "id": "CLoKHUg1e7Wf"
      },
      "outputs": [],
      "source": [
        "import pywt\n",
        "import seaborn as sns\n",
        "import pandas as pd"
      ]
    },
    {
      "cell_type": "markdown",
      "metadata": {
        "id": "7qSFVRVFzk1L"
      },
      "source": []
    },
    {
      "cell_type": "code",
      "execution_count": null,
      "metadata": {
        "id": "RNPBL8PoOKBe"
      },
      "outputs": [],
      "source": [
        "def"
      ]
    },
    {
      "cell_type": "code",
      "execution_count": null,
      "metadata": {
        "id": "lbVVBNMTgHfC"
      },
      "outputs": [],
      "source": [
        "def show_dwt_coefficients(image_path):\n",
        "\n",
        "    image = cv2.imread(image_path, cv2.IMREAD_GRAYSCALE)\n",
        "\n",
        "    # Apply 2D Discrete Wavelet Transform\n",
        "    coeffs = pywt.wavedec2(image, 'haar', level=4)\n",
        "    cA4, (cH4, cV4, cD4), (cH3, cV3, cD3), (cH2, cV2, cD2), (cH1, cV1, cD1) = coeffs\n",
        "\n",
        "    coeff_images = [\n",
        "        (\"cA4\", cA4), (\"cH4\", cH4), (\"cV4\", cV4), (\"cD4\", cD4),\n",
        "        (\"cH3\", cH3), (\"cV3\", cV3), (\"cD3\", cD3),\n",
        "        (\"cH2\", cH2), (\"cV2\", cV2), (\"cD2\", cD2),\n",
        "        (\"cH1\", cH1), (\"cV1\", cV1), (\"cD1\", cD1),\n",
        "    ]\n",
        "\n",
        "    plt.figure(figsize=(15, 10))\n",
        "    for i, (name, mat) in enumerate(coeff_images):\n",
        "        plt.subplot(3, 5, i+1)\n",
        "        plt.imshow(mat, cmap='gray')\n",
        "        plt.title(name)\n",
        "        plt.axis('off')\n",
        "\n",
        "    plt.tight_layout()\n",
        "    plt.suptitle(\"Original DWT Coefficients (No Resizing or Flattening)\", fontsize=16, y=1.02)\n",
        "    plt.show()\n",
        "\n"
      ]
    },
    {
      "cell_type": "code",
      "execution_count": null,
      "metadata": {
        "id": "WgQuj2QqhUOw"
      },
      "outputs": [],
      "source": [
        "image_path = \"/content/Breast Cancer Patients MRI's/train/Healthy/H_1.jpg\"\n",
        "show_dwt_coefficients(image_path)\n"
      ]
    },
    {
      "cell_type": "code",
      "execution_count": null,
      "metadata": {
        "id": "kYUFVtyh2xCT"
      },
      "outputs": [],
      "source": [
        "image_path = \"/content/Breast Cancer Patients MRI's/train/Sick/S_103.jpg\"\n",
        "show_dwt_coefficients(image_path)"
      ]
    },
    {
      "cell_type": "code",
      "execution_count": null,
      "metadata": {
        "id": "zdHIkBHXot_v"
      },
      "outputs": [],
      "source": [
        "def dwt_algo(image):\n",
        "    coeffs = pywt.wavedec2(image, 'haar', level=4)\n",
        "    # -----------------------Unpack DWT coefficients level 4------------------------------------------------\n",
        "    cA4, (cH4, cV4, cD4), (cH3, cV3, cD3), (cH2, cV2, cD2), (cH1, cV1, cD1) = coeffs\n",
        "    # --------------------------------Resize coefficients to the same dimensions--------------------------\n",
        "    max_shape = max(coef.shape for coef in [cA4, cH4, cV4, cD4, cH3, cV3, cD3, cH2, cV2, cD2, cH1, cV1, cD1])\n",
        "    resized_coeffs = [resize(coef, max_shape) for coef in [cA4, cH4, cV4, cD4, cH3, cV3, cD3, cH2, cV2, cD2, cH1, cV1, cD1]]\n",
        "    feature_vector = np.concatenate(resized_coeffs).ravel()\n",
        "    return feature_vector"
      ]
    },
    {
      "cell_type": "code",
      "execution_count": null,
      "metadata": {
        "id": "hEuVXz_DvFRV"
      },
      "outputs": [],
      "source": [
        "print(\"Flattened feature vector shape:\", vector.shape)\n",
        "print(\"First 100 elements of vector:\", vector[:100])"
      ]
    },
    {
      "cell_type": "code",
      "execution_count": null,
      "metadata": {
        "id": "xkpGDGqmo20y"
      },
      "outputs": [],
      "source": [
        "img = cv2.imread(\"/content/Breast Cancer Patients MRI's/train/Healthy/H_1.jpg\", cv2.IMREAD_GRAYSCALE)\n",
        "vector = dwt_algo(img)"
      ]
    },
    {
      "cell_type": "code",
      "execution_count": null,
      "metadata": {
        "id": "8f3V5X2Yq743"
      },
      "outputs": [],
      "source": [
        "import matplotlib.pyplot as plt\n",
        "\n",
        "def plot_feature_vector_line(vector):\n",
        "    plt.figure(figsize=(12, 4))\n",
        "    plt.plot(vector)\n",
        "    plt.title(\"DWT Feature Vector - Line Plot\")\n",
        "    plt.xlabel(\"Feature Index\")\n",
        "    plt.ylabel(\"Feature Value\")\n",
        "    plt.grid(True)\n",
        "    plt.show()"
      ]
    },
    {
      "cell_type": "code",
      "execution_count": null,
      "metadata": {
        "id": "WGPI2ZPrsSg9"
      },
      "outputs": [],
      "source": [
        "def plot_feature_vector_heatmap(vector, reshape_width=100):\n",
        "    # Trim to fit the reshape size\n",
        "    height = len(vector) // reshape_width\n",
        "    trimmed_vector = vector[:height * reshape_width]\n",
        "    reshaped = trimmed_vector.reshape(height, reshape_width)\n",
        "\n",
        "    plt.figure(figsize=(10, 4))\n",
        "    plt.imshow(reshaped, aspect='auto', cmap='viridis')\n",
        "    plt.title(\"DWT Feature Vector - Heatmap\")\n",
        "    plt.xlabel(\"Feature Index\")\n",
        "    plt.ylabel(\"Block\")\n",
        "    plt.colorbar()\n",
        "    plt.show()"
      ]
    },
    {
      "cell_type": "code",
      "execution_count": null,
      "metadata": {
        "id": "2DcyJyltrH3I"
      },
      "outputs": [],
      "source": [
        "plot_feature_vector_line(vector)\n",
        "\n",
        "plot_feature_vector_heatmap(vector)"
      ]
    },
    {
      "cell_type": "code",
      "execution_count": null,
      "metadata": {
        "id": "pv8C9RRT3uK5"
      },
      "outputs": [],
      "source": [
        "def load_data_from_folder(folder):\n",
        "    data = []\n",
        "    labels = []\n",
        "    for subfolder in os.listdir(folder):\n",
        "        subfolder_path = os.path.join(folder, subfolder)\n",
        "        label = 0 if subfolder == 'Healthy' else 1\n",
        "        for filename in os.listdir(subfolder_path):\n",
        "            image_path = os.path.join(subfolder_path, filename)\n",
        "            image = cv2.imread(image_path, cv2.IMREAD_GRAYSCALE)\n",
        "            dwt_features = dwt_algo(image)\n",
        "            data.append(dwt_features)\n",
        "            labels.append(label)\n",
        "    return data, labels\n"
      ]
    },
    {
      "cell_type": "code",
      "execution_count": null,
      "metadata": {
        "id": "O_skRBR555c_"
      },
      "outputs": [],
      "source": [
        "train_data, train_labels = load_data_from_folder(\"/content/Breast Cancer Patients MRI's/train\")\n",
        "val_data, val_labels = load_data_from_folder(\"/content/Breast Cancer Patients MRI's/validation\")"
      ]
    },
    {
      "cell_type": "code",
      "execution_count": null,
      "metadata": {
        "id": "TVbTFwFz6NAr"
      },
      "outputs": [],
      "source": [
        "train_data, val_data, train_labels, val_labels = train_test_split(train_data, train_labels, train_size=0.8)"
      ]
    },
    {
      "cell_type": "markdown",
      "metadata": {
        "id": "0Bt9u4rh3DrD"
      },
      "source": []
    },
    {
      "cell_type": "code",
      "execution_count": null,
      "metadata": {
        "id": "4vhlIPyI6tsD"
      },
      "outputs": [],
      "source": [
        "train_data = np.array(train_data)\n",
        "train_labels = np.array(train_labels)\n",
        "val_data = np.array(val_data)\n",
        "val_labels = np.array(val_labels)\n",
        "clf = SVC(C=1, kernel='linear')\n",
        "clf.fit(train_data, train_labels)"
      ]
    },
    {
      "cell_type": "code",
      "execution_count": null,
      "metadata": {
        "id": "eT549jT57MPV"
      },
      "outputs": [],
      "source": [
        "ypred = clf.predict(val_data)\n",
        "print(ypred)\n",
        "conf_matrix = confusion_matrix(val_labels, ypred)\n",
        "print(\"Confusion Matrix:\",conf_matrix)\n",
        "disp = ConfusionMatrixDisplay(confusion_matrix=conf_matrix,display_labels=clf.classes_)\n",
        "disp.plot()\n",
        "plt.show()\n",
        "print(\"-------------------------------------------------------------------------------------------------------------------------------\")\n",
        "print('accuracy', accuracy_score(val_labels, ypred))"
      ]
    },
    {
      "cell_type": "code",
      "execution_count": null,
      "metadata": {
        "id": "i8BsX6pNG--x"
      },
      "outputs": [],
      "source": [
        "import seaborn as sns\n",
        "\n",
        "plt.figure(figsize=(6, 4))\n",
        "sns.heatmap(conf_matrix, annot=True, fmt='d', cmap='Blues', xticklabels=[\"Healthy\", \"Diseased\"], yticklabels=[\"Healthy\", \"Diseased\"])\n",
        "plt.xlabel(\"Predicted Label\")\n",
        "plt.ylabel(\"True Label\")\n",
        "plt.title(\"Confusion Matrix Heatmap\")\n",
        "plt.show()"
      ]
    },
    {
      "cell_type": "markdown",
      "metadata": {
        "id": "CM7VJVkGJ9uu"
      },
      "source": [
        "# New section"
      ]
    },
    {
      "cell_type": "code",
      "execution_count": null,
      "metadata": {
        "id": "MdKK9R_iJefn"
      },
      "outputs": [],
      "source": []
    }
  ],
  "metadata": {
    "colab": {
      "provenance": [],
      "collapsed_sections": [
        "hbVPa-y2kgdX"
      ],
      "authorship_tag": "ABX9TyOi/80ENGY+7S8/QNjQCG+D",
      "include_colab_link": true
    },
    "kernelspec": {
      "display_name": "Python 3",
      "name": "python3"
    },
    "language_info": {
      "name": "python"
    }
  },
  "nbformat": 4,
  "nbformat_minor": 0
}